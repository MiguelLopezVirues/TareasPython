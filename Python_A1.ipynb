{
 "cells": [
  {
   "cell_type": "markdown",
   "id": "fc878b2c",
   "metadata": {
    "deletable": false,
    "editable": false,
    "nbgrader": {
     "cell_type": "markdown",
     "checksum": "4259274652418971f5eb6da546e510f0",
     "grade": false,
     "grade_id": "cell-445ebca9e141e6b8",
     "locked": true,
     "schema_version": 3,
     "solution": false,
     "task": false
    }
   },
   "source": [
    "# Relación de ejercicios 1\n",
    "\n",
    "### Lee detenidamente las siguientes instrucciones y borra `raise NotImplementedError` en todas las celdas\n",
    "\n",
    "En cada trozo de código debes responder a la pregunta formulada, asegurándote de que el resultado queda guardado en la(s) variable(s) indicadas, que por defecto vienen inicializadas a `None`. Puedes usar variables intermedias siempre que el resultado final del cálculo quede guardado exactamente en la variable que indica el enunciado (debes reemplazar `None` el código necesario, pero nunca cambiar el nombre de las variables ya creadas). \n",
    "\n",
    "Después de cada ejercicio verás varias líneas de código ya hechas. Ejecútalas todas (no modifiques su código) y te dirán si tu solución es correcta o no, sin darte pistas de cómo se resuelve (el código de los tests no guarda relación con el código de la solución). Si la solución es correcta, no se mostrará nada, pero si es incorrecta, verás un error indicando cuál es el test que tu solución no pasa. Además de esas pruebas, se realizarán algunas más (ocultas) a la hora de puntuar el ejercicio, pero si tu código pasa con éxito las líneas que ves, puedes estar bastante seguro de que tu solución es correcta. Asegúrate de que todas las celdas de auto-evaluación indican que tu solución es correcta antes de subir el ejercicio a la plataforma. En caso contrario, no dudes en preguntar las dudas a través del foro -siempre explicando la duda en palabras, sin pegar código fuente-.\n",
    "\n",
    "Una vez finalizada la actividad, guarda tu fichero, ciérralo con File -> Close and Halt, y después vuélvelo a abrir y ejecútalo completo pinchando en Cell -> Run All Cells, y asegúrate de que no se lanza ningún error. De esta manera comprobarás que no has olvidado nada y que es posible ejecutarlo completo desde 0 y sin errores. No se corregirá ningún fichero que tenga errores de sintaxis y no se pueda, como mínimo, ejecutar completamente. No pasa nada si alguna de las comprobaciones lanza errores por ser incorrecta, pero el código de cada ejercicio no puede tener errores de sintaxis y debe al menos poderse ejecutar.\n",
    "\n",
    "RECUERDA SUBIR CADA UNO DE LOS FICHEROS .ipynb TAL CUAL (sueltos), SIN COMPRIMIR Y SIN CAMBIARLES EL NOMBRE. Los ficheros subidos deben tener **exactamente el mismo nombre de fichero que tenían cuando los recibiste**. No subas ningún PDF ni ningún fichero ZIP ni nada similar. La plataforma ya los separa automáticamente en carpetas que traen el nombre y apellidos del alumno, por lo que NO es necesario que lo pongas en ninguna parte."
   ]
  },
  {
   "cell_type": "markdown",
   "id": "bbbe8a4d",
   "metadata": {
    "deletable": false,
    "editable": false,
    "nbgrader": {
     "cell_type": "markdown",
     "checksum": "f93c6a023b19b40010f149ca9022ae46",
     "grade": false,
     "grade_id": "ej1_enunciado",
     "locked": true,
     "schema_version": 3,
     "solution": false,
     "task": false
    }
   },
   "source": [
    "**Ejercicio 1 (2 puntos)**\n",
    "\n",
    "* Crear en la variable `lista` una **lista** de enteros empezando en 3, no mayores que 180 en pasos de 4 elementos\n",
    "* Crear en la variable `arr` un ndarray con la función `np.array()` y a partir de él, crear en `mascara` una máscara booleana de los elementos que son múltiplos de 3. **No está permitido utilizar bucles**. No olvides los `import` necesarios\n",
    "* Calcula en la variable `n_multiplos` el número total de elementos múltiplos de 3 que has obtenido. *No está permitido asignar el valor a mano*.\n",
    "* Utilizando la máscara, reemplazar en la propia variable `arr` los elementos múltiplos de 3 por el doble de su valor. **No está permitido utilizar bucles**.\n",
    "* Crear en la variable `matriz` un array (una matriz) de 3 filas que deben ser el vector `arr` tras el reemplazamiento, el doble de dicho vector, y la mitad del mismo, respectivamente. PISTA: utiliza la misma función que has empleado para crear el array, pasándole una lista formada por los 3 vectores indicados, tendrás la matriz. Comprueba sus dimensiones con `shape` después."
   ]
  },
  {
   "cell_type": "code",
   "execution_count": null,
   "id": "6625ca1e",
   "metadata": {
    "deletable": false,
    "nbgrader": {
     "cell_type": "code",
     "checksum": "0a5f532e0eca4cc82d1a654716d0139a",
     "grade": false,
     "grade_id": "ej1_solucion",
     "locked": false,
     "schema_version": 3,
     "solution": true,
     "task": false
    }
   },
   "outputs": [],
   "source": [
    "# import .......\n",
    "lista = None\n",
    "arr = None\n",
    "mascara = None\n",
    "n_multiplos = None\n",
    "matriz = None\n",
    "\n",
    "# YOUR CODE HERE\n",
    "raise NotImplementedError"
   ]
  },
  {
   "cell_type": "code",
   "execution_count": null,
   "id": "54e8ea34",
   "metadata": {
    "deletable": false,
    "editable": false,
    "nbgrader": {
     "cell_type": "code",
     "checksum": "d4a7b8b05d25797a14cc8ebe51a5f224",
     "grade": true,
     "grade_id": "ej1_test",
     "locked": true,
     "points": 2,
     "schema_version": 3,
     "solution": false,
     "task": false
    }
   },
   "outputs": [],
   "source": [
    "import numpy as np\n",
    "assert(isinstance(lista, list))\n",
    "assert(len(lista) == 45)\n",
    "assert(min(lista) == 3 and max(lista) == 179 and sum(lista) == 4095)   # el contenido de la lista es incorrecto\n",
    "assert(isinstance(arr, np.ndarray) and arr.size == 45)\n",
    "assert(isinstance(mascara, np.ndarray) and mascara.size == 45 and mascara.dtype.name == \"bool\")  # array booleano\n",
    "assert(n_multiplos == 15)\n",
    "assert(isinstance(matriz, np.ndarray) and matriz.shape == (3, 45))\n",
    "assert(arr.sum() == 5400)             # suma de arr tras haber reemplazado los múltiplos de 3 por el doble de su valor\n",
    "assert(matriz.sum() == 18900)"
   ]
  },
  {
   "cell_type": "markdown",
   "id": "8b64966e",
   "metadata": {
    "deletable": false,
    "editable": false,
    "nbgrader": {
     "cell_type": "markdown",
     "checksum": "543afb260e5509bb8a4b6b77e1b436f2",
     "grade": false,
     "grade_id": "ej2_enunciado",
     "locked": true,
     "schema_version": 3,
     "solution": false,
     "task": false
    }
   },
   "source": [
    "**Ejercicio 2 (2 puntos)**\n",
    "\n",
    "* **Sin utilizar bucles** ni map, sólo operaciones con vectores de numpy, crear una función llamada `modulo` que reciba un solo argumento `v`, que será un vector de numpy, y calcule el módulo de dicho vector, esto es, su magnitud, tal como indica la siguiente fórmula:\n",
    "\n",
    "Dado un vector n-dimensional $v=(v_1,...,v_n)$, se define el módulo de v como \n",
    "\n",
    "$$|v| = \\sqrt{v_1^2 + ... + v_n^2}$$\n",
    "\n",
    "La función raíz cuadrada puede aplicarse a un vector si usas la versión que hay en numpy, `np.sqrt` y está vectorizada, es decir, puede recibir un vector y calculará otro vector con la raíz de cada elemento. Lo mismo ocurre con el operador potencia `**` que está vectorizado se puede aplicar elemento a elemento. Recuerda que los vectores de numpy pueden devolver la suma de sus elementos.\n",
    "\n",
    "* Utilizando la función `np.apply_along_axis`, invocar a la función `modulo` sobre cada fila de la matriz `matriz` definida en el ejercicio anterior, almacenando el resultado en la variable `modulos_filas` que al final contendrá un vector de 3 elementos. PISTA: `np.apply_along_axis(funcion, axis, matriz)` sirve para aplicar una función definida por el usuario, que *debe estar pensada para recibir como argumento un vector*, a cada una de las dimensiones de un array. Debemos fijar `axis=1` para aplicarla a cada fila, lo cual resultará en un vector de 3 elementos formado por los resultados de invocar 3 veces a la función (sobre cada una de las 3 filas de la matriz)."
   ]
  },
  {
   "cell_type": "code",
   "execution_count": null,
   "id": "abcdd1af",
   "metadata": {
    "deletable": false,
    "nbgrader": {
     "cell_type": "code",
     "checksum": "36df27f14e9a28538a0e356e299a6a3d",
     "grade": false,
     "grade_id": "ej2_solucion",
     "locked": false,
     "schema_version": 3,
     "solution": true,
     "task": false
    }
   },
   "outputs": [],
   "source": [
    "# import .....\n",
    "modulo = None\n",
    "modulos_filas = None\n",
    "\n",
    "def modulo(v):\n",
    "    return None           # modifica esta línea también\n",
    "\n",
    "\n",
    "# YOUR CODE HERE\n",
    "raise NotImplementedError"
   ]
  },
  {
   "cell_type": "code",
   "execution_count": null,
   "id": "4a3cae1a",
   "metadata": {
    "deletable": false,
    "editable": false,
    "nbgrader": {
     "cell_type": "code",
     "checksum": "7e172c454420bdee34db930684432868",
     "grade": true,
     "grade_id": "ej2_test",
     "locked": true,
     "points": 2,
     "schema_version": 3,
     "solution": false,
     "task": false
    }
   },
   "outputs": [],
   "source": [
    "assert(isinstance(modulos_filas, np.ndarray) and modulos_filas.size == 3)\n",
    "assert(round(modulos_filas.mean(), 2) == 1140.5)"
   ]
  },
  {
   "cell_type": "markdown",
   "id": "a502325c",
   "metadata": {
    "deletable": false,
    "editable": false,
    "nbgrader": {
     "cell_type": "markdown",
     "checksum": "c687e0c655517d22d54be5f89edd73b5",
     "grade": false,
     "grade_id": "ej3_enunciado",
     "locked": true,
     "schema_version": 3,
     "solution": false,
     "task": false
    }
   },
   "source": [
    "**Ejercicio 3 (2 puntos)**\n",
    "\n",
    "Crear una función `quita_primer_valor` que reciba un argumento llamado `d` que será un diccionario donde todas las claves serán de tipo string y el valor asociado a cada clave será de tipo lista. La función debe eliminar el primer elemento de cada lista y debe devolver un nuevo diccionario con el resultado de dicha modificación (por tanto, el diccionario que le hemos pasado como argumento no debe ser modificado). Asumir que las listas siempre tendrán al menos un elemento.\n",
    "* PISTA: utiliza **listas por comprensión** para crear una nueva lista de pares a partir de la lista formada por los pares del diccionario original. La nueva lista de pares creada debe tener en cada tupla su segundo elemento modificado, como el resultado de tomar un segmento (de la posición 1 hasta el final) de la lista original que ya existía asociada a esa clave. Finalmente, crea un nuevo diccionario con la functión `dict` a partir de dicha lista de pares, y devuélvelo.\n",
    "* Puedes probar la función sobre el diccionario `midict = {\"edad\": [22, 45, 32], \"nombre\": [\"Juan\", \"Paula\", \"Elena\"]}`."
   ]
  },
  {
   "cell_type": "code",
   "execution_count": null,
   "id": "a48c04a9",
   "metadata": {
    "deletable": false,
    "nbgrader": {
     "cell_type": "code",
     "checksum": "0cfe6ac5732d3fa067acc583a1a8fcb9",
     "grade": false,
     "grade_id": "ej3_solucion",
     "locked": false,
     "schema_version": 3,
     "solution": true,
     "task": false
    }
   },
   "outputs": [],
   "source": [
    "quita_primer_valor = None              # reemplaza esto por la definición de tu función\n",
    "\n",
    "# YOUR CODE HERE\n",
    "raise NotImplementedError"
   ]
  },
  {
   "cell_type": "code",
   "execution_count": null,
   "id": "79361ffb",
   "metadata": {
    "deletable": false,
    "editable": false,
    "nbgrader": {
     "cell_type": "code",
     "checksum": "36febbcf40fe17e3943cbc33f5f6978f",
     "grade": true,
     "grade_id": "ej3_test",
     "locked": true,
     "points": 2,
     "schema_version": 3,
     "solution": false,
     "task": false
    }
   },
   "outputs": [],
   "source": [
    "midict = {\"edad\": [22, 45, 32], \"nombre\": [\"Juan\", \"Paula\", \"Elena\"]}\n",
    "res = quita_primer_valor(midict)\n",
    "assert(isinstance(res, dict) and len(res.items()) == 2)\n",
    "assert(res[\"edad\"] == [45, 32] and res[\"nombre\"] == [\"Paula\", \"Elena\"])"
   ]
  },
  {
   "cell_type": "markdown",
   "id": "37cca46e",
   "metadata": {
    "deletable": false,
    "editable": false,
    "nbgrader": {
     "cell_type": "markdown",
     "checksum": "22353b8d8c3b9c09cf391b4a03faf55c",
     "grade": false,
     "grade_id": "ej4_enunciado",
     "locked": true,
     "schema_version": 3,
     "solution": false,
     "task": false
    }
   },
   "source": [
    "**Ejercicio 4 (2 puntos)**\n",
    "\n",
    "Implementa una función `quita_menores` que reciba dos argumentos: el primero llamado `personas` debe ser una lista de diccionarios, cada uno con datos personales de una persona, entre los cuales se encuentra el campo `\"edad\"`. El segundo, llamado `edad_minima`, debe ser un entero y debe tener valor por defecto 18 si no se especifica dicho argumento. La función debe devolver una nueva lista en la que se han descartado aquellas personas cuyo campo `edad` sea menor que `edad_limite`. Puedes probar tu función con la lista `personas = [{\"nombre\": \"Pepe\", \"edad\": 15}, {\"nombre\": \"Juan\", \"edad\": 59}, {\"nombre\": \"Marisa\", \"edad\": 42}, {\"nombre\": \"Eva\"}]`.\n",
    "* PISTA: utiliza **listas por comprensión con un if dentro**, para recorrer la lista de personas y construir otra lista en la que sólo estará cada persona si su edad es mayor o igual que la edad mínima indicada como argumento.\n",
    "* PISTA: tener en cuenta que alguno de los diccionarios puede no contener el campo \"edad\" en cuyo caso dicha persona no será incluida en la lista resultante, pero *el código no debe lanzar ningún error* en dicho caso. Recuerda la función `get()` de los diccionarios."
   ]
  },
  {
   "cell_type": "code",
   "execution_count": null,
   "id": "fd1eb7a8",
   "metadata": {
    "deletable": false,
    "nbgrader": {
     "cell_type": "code",
     "checksum": "6d35dc0fcb50c1a350f2fa166f51272b",
     "grade": false,
     "grade_id": "ej4_solucion",
     "locked": false,
     "schema_version": 3,
     "solution": true,
     "task": false
    }
   },
   "outputs": [],
   "source": [
    "quita_menores = None          # reemplaza esto por la definición de tu función\n",
    "\n",
    "# YOUR CODE HERE\n",
    "raise NotImplementedError"
   ]
  },
  {
   "cell_type": "code",
   "execution_count": null,
   "id": "1fa3506d",
   "metadata": {
    "deletable": false,
    "editable": false,
    "nbgrader": {
     "cell_type": "code",
     "checksum": "a8cf4702ddd9671cada87cd7c1d20907",
     "grade": true,
     "grade_id": "ej4_test",
     "locked": true,
     "points": 2,
     "schema_version": 3,
     "solution": false,
     "task": false
    }
   },
   "outputs": [],
   "source": [
    "personas = [{\"nombre\": \"Pepe\", \"edad\": 15}, {\"nombre\": \"Juan\", \"edad\": 59}, {\"nombre\": \"Marisa\", \"edad\": 42}, {\"nombre\": \"Eva\"}]\n",
    "res_18 = quita_menores(personas)\n",
    "assert(isinstance(res_18, list) and len(res_18) == 2)\n",
    "assert(isinstance(res_18[0], dict) and isinstance(res_18[1], dict))\n",
    "assert(res_18[0][\"nombre\"] == \"Juan\" and res_18[1][\"nombre\"] == \"Marisa\")\n",
    "\n",
    "res_50 = quita_menores(personas, 50)\n",
    "assert(isinstance(res_50, list) and len(res_50) == 1)\n",
    "assert(isinstance(res_50[0], dict))\n",
    "assert(res_50[0][\"nombre\"] == \"Juan\")"
   ]
  },
  {
   "cell_type": "markdown",
   "id": "ea0ad8ce",
   "metadata": {
    "deletable": false,
    "editable": false,
    "nbgrader": {
     "cell_type": "markdown",
     "checksum": "08450e965d2e3bde7beb36d71f35eb9e",
     "grade": false,
     "grade_id": "ej5_enunciado",
     "locked": true,
     "schema_version": 3,
     "solution": false,
     "task": false
    }
   },
   "source": [
    "**Ejercicio 5 (2 puntos)**\n",
    "\n",
    "Implementa una función llamada `reemplaza_max` que reciba dos argumentos: \n",
    "* Un argumento `m` que será una matriz numérica bidimensional de numpy (array bidimensional)\n",
    "* Un segundo argumento `repl` que será un número real\n",
    "\n",
    "La función debe devolver **una nueva matriz** en la que se ha reemplazado en cada fila de la matriz el máximo de esa fila por el valor del argumento `repl`. Para ello, aplica de nuevo la función `np.apply_along_axis(funcion, axis, matriz)` sobre una copia de la matriz `m`, con argumento `axis=1` (que significa \"aplicar a cada fila\") donde la función del primer argumento debe ser **una función lambda** de un solo argumento `v` (vector numérico de numpy), que devuelva un nuevo vector resultado de reemplazar en el vector fila original el máximo de ese vector por `repl`. Dentro de dicha función lambda puedes hacer referencia a la variable `repl` de la función externa sin ningún problema.\n",
    "\n",
    "Puedes probar tu función sobre la matriz `matriz` definida en el Ejercicio 1, con `repl=-10`.\n",
    "\n",
    "* PISTA: dentro de la función, crea en primer lugar una variable llamada `copia_m` que contenga una copia de `m` (método `m.copy()`), después invoca a `np_apply_along_axis` y finalmente devuelve `copia_m` como resultado de la función `reemplaza_maximos`.\n",
    "* PISTA: Python no permite utilizar el operador de asignación dentro de una función lambda, pero puedes usar la función `np.put(v, indice, elemento)` que se comporta exactamente como si fuera `v[indice] = elemento`. Esto modifica directamente el vector pasado como argumento a la función lambda (es decir, cada fila de la matriz), lo cual no es ningún problema si invocas a la función `np_apply_along_axis` sobre una **copia** de la matriz *m* (y no sobre la matriz original que ha recibido `reemplaza_maximos`). Para saber el índice donde se encuentra el máximo del vector puedes usar `argmax()` aplicada al array."
   ]
  },
  {
   "cell_type": "code",
   "execution_count": null,
   "id": "edef573c",
   "metadata": {
    "deletable": false,
    "nbgrader": {
     "cell_type": "code",
     "checksum": "aeac710b4f8e0ecfa2c3c3cca4d054d0",
     "grade": false,
     "grade_id": "ej5_solucion",
     "locked": false,
     "schema_version": 3,
     "solution": true,
     "task": false
    }
   },
   "outputs": [],
   "source": [
    "reemplaza_maximos = None            # reemplaza esta línea por la definición de tu función\n",
    "\n",
    "# YOUR CODE HERE\n",
    "raise NotImplementedError"
   ]
  },
  {
   "cell_type": "code",
   "execution_count": null,
   "id": "524f7dbe",
   "metadata": {
    "deletable": false,
    "editable": false,
    "nbgrader": {
     "cell_type": "code",
     "checksum": "e5f4856791b4b3e254c6454daa9bbe06",
     "grade": true,
     "grade_id": "ej5_test",
     "locked": true,
     "points": 2,
     "schema_version": 3,
     "solution": false,
     "task": false
    }
   },
   "outputs": [],
   "source": [
    "import inspect\n",
    "import numpy as np\n",
    "reemplaza_maximos_source = inspect.getsource(reemplaza_maximos)\n",
    "m_antes = matriz.copy()\n",
    "assert(\"lambda\" in reemplaza_maximos_source and       # obligatorio utilizar una función lambda \n",
    "       \"put(\" in reemplaza_maximos_source and         # obligatorio utilizar la función np.put\n",
    "       \"copy()\" in reemplaza_maximos_source)          # obligatorio utilizar copy() para no modificar el argumento\n",
    "nueva_m = reemplaza_maximos(matriz, -10)\n",
    "assert(nueva_m is not None)\n",
    "assert((matriz == m_antes).all())                     # la matriz original pasada como argumento no puede ser modificada\n",
    "assert((nueva_m[:, 42] == [-10, -10, -10]).all())"
   ]
  }
 ],
 "metadata": {
  "kernelspec": {
   "display_name": "Python 3 (ipykernel)",
   "language": "python",
   "name": "python3"
  },
  "language_info": {
   "codemirror_mode": {
    "name": "ipython",
    "version": 3
   },
   "file_extension": ".py",
   "mimetype": "text/x-python",
   "name": "python",
   "nbconvert_exporter": "python",
   "pygments_lexer": "ipython3",
   "version": "3.7.4"
  }
 },
 "nbformat": 4,
 "nbformat_minor": 5
}
