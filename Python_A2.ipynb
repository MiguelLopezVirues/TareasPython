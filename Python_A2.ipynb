{
 "cells": [
  {
   "cell_type": "markdown",
   "id": "42d757fb",
   "metadata": {
    "deletable": false,
    "editable": false,
    "nbgrader": {
     "cell_type": "markdown",
     "checksum": "16d9edfbb67061dee0e78d6c8bd4bda4",
     "grade": false,
     "grade_id": "cell-6931830012e6c23e",
     "locked": true,
     "schema_version": 3,
     "solution": false,
     "task": false
    }
   },
   "source": [
    "# Relación de ejercicios 2\n",
    "\n",
    "### Lee detenidamente las siguientes instrucciones y borra `raise NotImplementedError` en todas las celdas\n",
    "\n",
    "En cada trozo de código debes responder a la pregunta formulada, asegurándote de que el resultado queda guardado en la(s) variable(s) indicadas, que por defecto vienen inicializadas a `None`. Puedes usar variables intermedias siempre que el resultado final del cálculo quede guardado exactamente en la variable que indica el enunciado (debes reemplazar `None` el código necesario, pero nunca cambiar el nombre de las variables ya creadas). \n",
    "\n",
    "Después de cada ejercicio verás varias líneas de código ya hechas. Ejecútalas todas (no modifiques su código) y te dirán si tu solución es correcta o no, sin darte pistas de cómo se resuelve (el código de los tests no guarda relación con el código de la solución). Si la solución es correcta, no se mostrará nada, pero si es incorrecta, verás un error indicando cuál es el test que tu solución no pasa. Además de esas pruebas, se realizarán algunas más (ocultas) a la hora de puntuar el ejercicio, pero si tu código pasa con éxito las líneas que ves, puedes estar bastante seguro de que tu solución es correcta. Asegúrate de que todas las celdas de auto-evaluación indican que tu solución es correcta antes de subir el ejercicio a la plataforma. En caso contrario, no dudes en preguntar las dudas a través del foro -siempre explicando la duda en palabras, sin pegar código fuente-.\n",
    "\n",
    "Una vez finalizada la actividad, guarda tu fichero, ciérralo con File -> Close and Halt, y después vuélvelo a abrir y ejecútalo completo pinchando en Cell -> Run All Cells, y asegúrate de que no se lanza ningún error. De esta manera comprobarás que no has olvidado nada y que es posible ejecutarlo completo desde 0 y sin errores. No se corregirá ningún fichero que tenga errores de sintaxis y no se pueda, como mínimo, ejecutar completamente. No pasa nada si alguna de las comprobaciones lanza errores por ser incorrecta, pero el código de cada ejercicio no puede tener errores de sintaxis y debe al menos poderse ejecutar.\n",
    "\n",
    "RECUERDA SUBIR CADA UNO DE LOS FICHEROS .ipynb TAL CUAL (sueltos), SIN COMPRIMIR Y SIN CAMBIARLES EL NOMBRE. Los ficheros subidos deben tener **exactamente el mismo nombre de fichero que tenían cuando los recibiste**. No subas ningún PDF ni ningún fichero ZIP ni nada similar. La plataforma ya los separa automáticamente en carpetas que traen el nombre y apellidos del alumno, por lo que NO es necesario que lo pongas en ninguna parte.\n",
    "\n",
    "### Las funciones NUNCA deben hacer print() ni mostrar nada por pantalla, sino devolver el resultado del cálculo utilizando return. Recuerda que imprimir por pantalla no es devolver un resultado."
   ]
  },
  {
   "cell_type": "markdown",
   "id": "e1400d15",
   "metadata": {
    "deletable": false,
    "editable": false,
    "nbgrader": {
     "cell_type": "markdown",
     "checksum": "1a88b2b8cabf46f9e38cae8360084196",
     "grade": false,
     "grade_id": "ej1_enunciado",
     "locked": true,
     "schema_version": 3,
     "solution": false,
     "task": false
    }
   },
   "source": [
    "**Ejercicio 1 (1.5 puntos).** Crear el siguiente DataFrame y almacenarlo en la variable `personas`, poniendo los nombres de personas como columna de índice.\n",
    "\n",
    "| name      | age | height|weight|sex|\n",
    "|-----------|:---:|:-----:|:----:|:-:|\n",
    "| Alex      | 25  |   177 |   57 | F |\n",
    "| Lilly     | 31  |   163 |   69 | F |\n",
    "| Mark      | 23  |   190 |   83 | M |\n",
    "| Oliver    | 52  |   179 |   75 | M |\n",
    "| Martha    | 76  |   163 |   70 | F |\n",
    "| Lucas     | 49  |   183 |   83 | M |\n",
    "| Caroline  | 26  |   164 |   53 | F |\n",
    "\n",
    "- A continuación, crear en la variable `surname` un objeto Series (no un DataFrame) con el siguiente contenido en el orden que se muestra y con su correspondiente índice, y posteriormente añadir dicha columna al data.frame `personas` por la **izquierda** , SIN modificar el contenido de `personas` sino guardando el resultado en una nueva variable `personas_ampliado` de tipo DataFrame. Nótese que el orden de los elementos de la serie no coincide con el de las filas del DataFrame anterior, pero como están identificados con su índice, se podrá añadir correctamente. PISTA: puedes usar la función `assign(nueva_col=valores)` de los DataFrames, que te devolverá un nuevoDF (consulta la documentación [aquí](https://pandas.pydata.org/docs/reference/api/pandas.DataFrame.assign.html)).\n",
    "\n",
    "|           | surname  |\n",
    "|-----------|:---------|\n",
    "| Lilly     | Potter   |\n",
    "| Caroline  | Butter   |\n",
    "| Mark      | Marquez  |\n",
    "| Alex      | Song     |\n",
    "| Martha    | Argerich |\n",
    "| Lucas     | Brown    |\n",
    "| Oliver    | Atom     |\n",
    "\n",
    "- Usando la función `.str.cat(otra_serie, separador)`, de un objeto serie, modificar el DataFrame `personas_ampliado` añadiendo una nueva columna `surname_age` por la derecha, que contenga la concatenación de la serie (columna) `surname` con la serie resultante de convertir la serie `age` a string con el método `astype(str)`. Utiliza `\"-\"` (guión medio) como separador. PISTA: invoca a `.str.cat` sobre la serie `surname` pasando `age` como argumento."
   ]
  },
  {
   "cell_type": "code",
   "execution_count": null,
   "id": "8824ba9b",
   "metadata": {
    "deletable": false,
    "echo": true,
    "nbgrader": {
     "cell_type": "code",
     "checksum": "710cb9c785eb8caf2af477d718bf064b",
     "grade": false,
     "grade_id": "ej1_solucion",
     "locked": false,
     "schema_version": 3,
     "solution": true,
     "task": false
    },
    "output": false
   },
   "outputs": [],
   "source": [
    "personas = None\n",
    "surname = None\n",
    "personas_ampliado = None\n",
    "\n",
    "# YOUR CODE HERE\n",
    "raise NotImplementedError"
   ]
  },
  {
   "cell_type": "code",
   "execution_count": null,
   "id": "e6dff70e",
   "metadata": {
    "deletable": false,
    "editable": false,
    "nbgrader": {
     "cell_type": "code",
     "checksum": "4c47dcb1ff29acf6177fe5bce99a331f",
     "grade": true,
     "grade_id": "ej1-test",
     "locked": true,
     "points": 1.5,
     "schema_version": 3,
     "solution": false,
     "task": false
    }
   },
   "outputs": [],
   "source": [
    "import pandas as pd\n",
    "assert(isinstance(personas, pd.core.frame.DataFrame) and isinstance(personas_ampliado, pd.core.frame.DataFrame) and\n",
    "       isinstance(surname, pd.core.frame.Series))\n",
    "\n",
    "assert(personas.shape == (7, 4) and personas.index.size == 7 and personas.index[0] == \"Alex\")\n",
    "assert(personas_ampliado.shape == (7, 6) and personas_ampliado.index.size == 7 and personas_ampliado.index[0] == \"Alex\")\n",
    "assert(personas_ampliado.dtypes[\"surname_age\"].name == \"object\")\n",
    "assert(personas_ampliado[\"surname_age\"].loc[\"Lucas\"] == \"Brown-49\")\n",
    "assert(surname.index.to_list() == [\"Lilly\", \"Caroline\", \"Mark\", \"Alex\", \"Martha\", \"Lucas\", \"Oliver\"])"
   ]
  },
  {
   "cell_type": "markdown",
   "id": "3ee0823a",
   "metadata": {
    "deletable": false,
    "editable": false,
    "nbgrader": {
     "cell_type": "markdown",
     "checksum": "0e238be6ebec4e7b6baa0869a91239f3",
     "grade": false,
     "grade_id": "ej2_enunciado",
     "locked": true,
     "schema_version": 3,
     "solution": false,
     "task": false
    }
   },
   "source": [
    "**Ejercicio 2 (3 puntos).** Usando el dataset `state_x77.csv`, leerlo a un DataFrame en la variable `state_x77` usando como índice la columna \"State\" que contiene los nombres de los estados. (recuerda el argumento `index_col`). \n",
    "\n",
    "- Una vez hecho esto, crear una variable `state_df` como copia de `state_x77` para después modificarla reemplazando por `None` **todos los valores de la columna `Income` para aquellos estados cuyo nombre empieza por `M`**. El contenido de `state_x77` no debe modificarse. Para esto, crear primero una máscara booleana sobre las filas y guardarla en la variable `estados_m_mask` utilizando los nombres de fila extraídos de `state_x77`. \n",
    "  * PISTA: el índice del DF no es una columna y por tanto, tampoco es una serie, pero puedes convertirlo a serie utilizando la función `to_series()` aplicada al índice del DF.\n",
    "  * PISTA: consulta la documentación de la función `.str.startswith` de las series [aquí](https://pandas.pydata.org/docs/reference/api/pandas.Series.str.startswith.html).\n",
    "\n",
    "- En el propio `state_df` añadir una fila nueva cuyo nombre de fila sea `Total` que contenga en cada columna la suma de los valores de todas las filas de esa columna, usando la función `sum` de los DataFrames (no de las series) con `axis=0` (consulta la ayuda [aquí](https://pandas.pydata.org/docs/reference/api/pandas.DataFrame.sum.html)). La fila debe crearse con ese nombre directamente, en vez de indicar el nombre después. Los valores nulos deben ignorarse para la suma (consulta los argumentos de `sum`).\n",
    "\n",
    "- A continuación, crear una **función** `aniade_porcentajes(df)` que reciba un DataFrame cualquiera, acerca del cual podemos asumir que todas sus columnas son numéricas y que va a existir una **fila** con nombre `Total`. La función debe **devolver un nuevo DataFrame** que tendrá el **doble de columnas** que el DF pasado como argumento: la primera mitad de ellas serán idénticas al original, y la segunda mitad (es decir, las añadidas por la derecha) serán la traducción de las originales a porcentajes, dividiendo cada valor de cada celda entre el total de esa columna que se encuentra en la fila `Total` y multiplicando por 100. Los nombres de las nuevas columnas deben ser iguales a los de las columnas originales, pero con la terminación `_porc` (puedes usar `f\"{variable}_porc\"` o el operador de concatenación `+`). La función **no debe modificar en ningún momento el DF pasado como argumento**.\n",
    "  * *La función no debe estar pensada específicamente para el DF `state_df` sino para cualquier DF en el que se cumplan las condiciones descritas*. PISTA: crea una nueva variable dentro de la función llamada `resultado`, que inicialmente sea igual al argumento `df`, y ve añadiéndole las nuevas columnas.\n",
    "\n",
    "- Como caso particular, invocar la función creada sobre el data.frame `state_df` y guardar el resultado en la variable `state_df_porc`. "
   ]
  },
  {
   "cell_type": "code",
   "execution_count": null,
   "id": "ec0058f2",
   "metadata": {
    "deletable": false,
    "nbgrader": {
     "cell_type": "code",
     "checksum": "c6432aa08f61cd0c461e5d1ea710eb24",
     "grade": false,
     "grade_id": "ej2_solucion",
     "locked": false,
     "schema_version": 3,
     "solution": true,
     "task": false
    }
   },
   "outputs": [],
   "source": [
    "state_x77 = None\n",
    "state_df = None\n",
    "estados_m_mask = None\n",
    "\n",
    "def aniade_porcentajes(df):\n",
    "    return None                  # modifica esto\n",
    "\n",
    "state_df_porc = None\n",
    "\n",
    "# YOUR CODE HERE\n",
    "raise NotImplementedError"
   ]
  },
  {
   "cell_type": "code",
   "execution_count": null,
   "id": "b72d3a6d",
   "metadata": {
    "deletable": false,
    "editable": false,
    "nbgrader": {
     "cell_type": "code",
     "checksum": "015a857e8a3c9231dd8fdbe33c0bef17",
     "grade": true,
     "grade_id": "ej2-test",
     "locked": true,
     "points": 3,
     "schema_version": 3,
     "solution": false,
     "task": false
    }
   },
   "outputs": [],
   "source": [
    "assert(isinstance(state_df, pd.core.frame.DataFrame) and state_df.shape == (51, 8))\n",
    "assert(state_df.index.to_list() == state_x77.index.to_list() + [\"Total\"])\n",
    "\n",
    "assert(isinstance(estados_m_mask, pd.core.frame.Series) and estados_m_mask.dtypes.name == \"bool\" \n",
    "       and estados_m_mask.size == 50 and estados_m_mask.sum() == 8)\n",
    "\n",
    "result_df = aniade_porcentajes(state_df)\n",
    "assert(result_df.shape == (51, 16))\n",
    "assert(len([x for x in list(map(lambda x: x + \"_porc\", state_df.columns)) if x in list(result_df.columns)]) == 8) # comprobar nuevos nombres\n",
    "assert(round(aniade_porcentajes(state_df).loc[\"Virginia\", \"Income_porc\"], 3) == 2.515)"
   ]
  },
  {
   "cell_type": "markdown",
   "id": "27dae476",
   "metadata": {
    "deletable": false,
    "editable": false,
    "nbgrader": {
     "cell_type": "markdown",
     "checksum": "8b358eeccf049ef58184ee3fed2bd6d0",
     "grade": false,
     "grade_id": "ej3-enunciado",
     "locked": true,
     "schema_version": 3,
     "solution": false,
     "task": false
    }
   },
   "source": [
    "**Ejercicio 3 (2 puntos)** Con la variable `state_df` definida anteriormente:\n",
    "\n",
    "- **Copiar** su contenido a una nueva variable `state_df_abb` (no es suficiente con sólo asignarla). \n",
    "- Añadir a `state_df_abb` una nueva columna `Division` (con D mayúscula) que sea de tipo **Series** y cuyo contenido sea el contenido de la variable `division` que puedes encontrar creada a continuación y que no debes modificar. El orden de los valores corresponde a los estados en el mismo que en el DF `state_df`. Para añadirla como series, primero crea un objeto Series cuyo índice sea exactamente el mismo que el del DF `state_df_abb`, almacénalo en la variable `division_series`, y finalmente añade dicho objeto como columna.\n",
    "\n",
    "- Utilizando la función `groupby` con la variable `Division` como agrupadora y la variable numérica `Income` (ingresos) como objetivo, calcular el **ingreso medio en cada zona de EEUU** y almacenar el resultado en la variable `ingresos_medios`. Dentro de `agg` puedes usar la función `np.mean` de Numpy (recuerda que habíamos introducido en el ejercicio anterior varios `None` justamente en esa columna). Asegúrate de que la división quede *como el índice* del DF devuelto como resultado, que tendrá una sola columna como tal además del índice.\n",
    "\n",
    "- Añadir a `state_df_abb` una nueva columna `Division_mean_income` que tenga, para cada estado, el ingreso medio de la división a la que pertenece el estado. PISTA: utiliza `.loc[]` sobre la Serie (columna) `Income` del DF `ingresos_medios`, aprovechando que su índice son los nombres de división, y por tanto, puedes indexar sobre dicha serie si pasas los nombres de los elementos de la serie en el orden deseado. Dicho orden viene dado por la columna `Division` del DF `state_df_abb` (está permitido pasar una Serie como argumento a `loc`). **No está permitido usar join ni merge ni nada similar**.\n",
    "  * PISTA: convierte la serie devuelta por `loc` en una lista de números reales con `to_list()` antes de asignarla al DF. De lo contrario, obtendrás todo el rato valores NaN ya que la serie tiene como índice el nombre de la división, lo cual no coincide con el índice del DF al que quieres asignar la columna, que son los nombres de estados. Al convertir a lista evitamos que Python intente hacer coincidir los índices.\n",
    "\n",
    "- Seleccionar las filas de `state_df_abb` correspondientes a estados con un ingreso (columna `Income`) mayor que el ingreso medio de esa división (columna `Division_mean_income`). Para dichas filas seleccionar solamente las columnas `Population`, `Income`, `Division_mean_income` y `Area`. Guardar el resultado en la variable `state_df_high_income`."
   ]
  },
  {
   "cell_type": "code",
   "execution_count": null,
   "id": "5181f462",
   "metadata": {
    "deletable": false,
    "nbgrader": {
     "cell_type": "code",
     "checksum": "47d16a238c46b824f29617d0d09a1b6b",
     "grade": false,
     "grade_id": "ej3-respuesta",
     "locked": false,
     "schema_version": 3,
     "solution": true,
     "task": false
    }
   },
   "outputs": [],
   "source": [
    "division = [\n",
    "    \"East South Central\", \"Pacific\", \"Mountain\", \"West South Central\", \"Pacific\", \"Mountain\", \"New England\", \"South Atlantic\", \n",
    "    \"South Atlantic\", \"South Atlantic\", \"Pacific\", \"Mountain\", \"East North Central\", \"East North Central\", \n",
    "    \"West North Central\", \"West North Central\", \"East South Central\", \"West South Central\", \"New England\", \"South Atlantic\",\n",
    "    \"New England\", \"East North Central\", \"West North Central\", \"East South Central\", \"West North Central\", \"Mountain\",\n",
    "    \"West North Central\", \"Mountain\", \"New England\", \"Middle Atlantic\", \"Mountain\", \"Middle Atlantic\", \"South Atlantic\",\n",
    "    \"West North Central\", \"East North Central\", \"West South Central\", \"Pacific\", \"Middle Atlantic\", \"New England\",\n",
    "    \"South Atlantic\", \"West North Central\", \"East South Central\", \"West South Central\", \"Mountain\", \"New England\",\n",
    "    \"South Atlantic\", \"Pacific\", \"South Atlantic\", \"East North Central\", \"Mountain\", \"Ninguna\"]\n",
    "\n",
    "division_series = None\n",
    "state_df_abb = None\n",
    "ingresos_medios = None\n",
    "division_mean_income = None\n",
    "state_df_high_income = None\n",
    "\n",
    "# YOUR CODE HERE\n",
    "raise NotImplementedError"
   ]
  },
  {
   "cell_type": "code",
   "execution_count": null,
   "id": "bf132189",
   "metadata": {
    "deletable": false,
    "editable": false,
    "nbgrader": {
     "cell_type": "code",
     "checksum": "fe50d523945e18d796a2f2468b132573",
     "grade": true,
     "grade_id": "ej3-test",
     "locked": true,
     "points": 2,
     "schema_version": 3,
     "solution": false,
     "task": false
    }
   },
   "outputs": [],
   "source": [
    "assert(isinstance(state_df_abb, pd.core.frame.DataFrame) and\n",
    "       isinstance(state_df_high_income, pd.core.frame.DataFrame))\n",
    "\n",
    "assert(state_df_abb.shape == (51, 10))\n",
    "assert(state_df_high_income.shape == (19, 4))\n",
    "\n",
    "assert((division_series.index == state_df_abb.index).all())\n",
    "assert(isinstance(state_df_abb[\"Division\"], pd.core.series.Series))    # Division no debe estar como strings sino como serie\n",
    "\n",
    "assert(round(ingresos_medios.Income.median(), 2) == 4567.65)\n",
    "assert(state_df_abb.Division_mean_income.median() == 4523.5)\n",
    "\n",
    "assert(round(state_df_high_income.Area.mean(), 2) ==  93832.37 and\n",
    "       state_df_high_income.Population.median() == 2715)"
   ]
  },
  {
   "cell_type": "markdown",
   "id": "73b59d17",
   "metadata": {
    "deletable": false,
    "editable": false,
    "nbgrader": {
     "cell_type": "markdown",
     "checksum": "0f4389a9602e12e4546b59e718ada324",
     "grade": false,
     "grade_id": "ej4-enunciado",
     "locked": true,
     "schema_version": 3,
     "solution": false,
     "task": false
    }
   },
   "source": [
    "**Ejercicio 4 (1.5 puntos)** Crear una función `aniade_proporciones` que reciba un solo argumento de tipo DataFrame, busque todas las columnas cuyo nombre termine en `_porc`, y añada por el final tantas columnas como haya encontrado, pero cambiando `_porc` por `_prop` que contendrá esa misma cantidad pero en tanto por uno (es decir, proporción), lo cual se obtiene dividiendo por 100.0 cada columna de porcentajes. El DF que la función recibe como argumento **no debe modificarse**.\n",
    "* PISTA: puedes hacerlo sin bucles, primero encontrando el sub-dataframe formado por solamente esas columnas (para lo cual necesitarás crear, mediante listas por comprensión, una lista que contenga solamente esas columnas, y luego usarla con `.loc`), modificando todos sus elementos dividiendo el DF por 100 (puedes dividir un DF entre un número directamente) y por último renombrar sus columnas, para finalmente añadirlo al existente por la derecha, **sin usar merge ni join** sino como operación de concatenación, puesto que ya sabemos que ambos DF tienen las filas en el mismo orden (consulta la documentación de [la función pd.concat con axis=1](https://pandas.pydata.org/docs/reference/api/pandas.concat.html)). En este caso el primer argumento de pd.concat debe ser una *lista* de los dos DF que queremos concatenar.\n",
    "* PISTA: \n",
    "* La función debe estar pensada para cualquier DF que tenga columnas numéricas cuyo nombre termine en _porc\n",
    "* Como caso particular, invocar a la función sobre el DF `state_df_porc` creado en el ejercicio 2 y almacena el resultado en la variable `states_porc_prop_df`."
   ]
  },
  {
   "cell_type": "code",
   "execution_count": null,
   "id": "4bf7c299",
   "metadata": {
    "deletable": false,
    "nbgrader": {
     "cell_type": "code",
     "checksum": "264ecd4729d2e55e92ff46adb8430ccf",
     "grade": false,
     "grade_id": "ej4-respuesta",
     "locked": false,
     "schema_version": 3,
     "solution": true,
     "task": false
    }
   },
   "outputs": [],
   "source": [
    "def aniade_proporciones(df):\n",
    "    return None                         # cambia esto por el código necesario para implementar la función\n",
    "\n",
    "states_porc_prop_df = None\n",
    "\n",
    "# YOUR CODE HERE\n",
    "raise NotImplementedError"
   ]
  },
  {
   "cell_type": "code",
   "execution_count": null,
   "id": "6cfc60ee",
   "metadata": {
    "deletable": false,
    "editable": false,
    "nbgrader": {
     "cell_type": "code",
     "checksum": "e49cbcfe389200702c63520c9cf20331",
     "grade": true,
     "grade_id": "ej4-test",
     "locked": true,
     "points": 1.5,
     "schema_version": 3,
     "solution": false,
     "task": false
    }
   },
   "outputs": [],
   "source": [
    "import inspect\n",
    "aniade_proporciones_source = inspect.getsource(aniade_proporciones)\n",
    "assert(\"state_df_porc\" not in aniade_proporciones_source and       # No se puede referenciar ningún DF externo a la función\n",
    "       \"state_x77\" not in aniade_proporciones_source)\n",
    "mi_resultado = aniade_proporciones(state_df_porc)\n",
    "assert(isinstance(mi_resultado, pd.core.frame.DataFrame))\n",
    "assert(len(state_df_porc.columns) == 16)                  # El DF original no debe haberse modificado\n",
    "assert(len(mi_resultado.columns) == 24)\n",
    "assert(set(['Area_porc', 'Population_prop', 'Income_prop', 'Illiteracy_prop',\n",
    "       'Life Exp_prop', 'Murder_prop', 'HS Grad_prop', 'Frost_prop', 'Area_prop']).issubset(mi_resultado.columns))\n",
    "assert(round(mi_resultado[\"Area_prop\"].median(), 5) == 0.0154)\n",
    "assert(round(mi_resultado[\"Frost_prop\"].median(), 5) == 0.02202)"
   ]
  },
  {
   "cell_type": "markdown",
   "id": "49e2ee4e",
   "metadata": {
    "deletable": false,
    "editable": false,
    "nbgrader": {
     "cell_type": "markdown",
     "checksum": "579aeb124991dfa2b58dfccac8c5117f",
     "grade": false,
     "grade_id": "ej5-enunciado",
     "locked": true,
     "schema_version": 3,
     "solution": false,
     "task": false
    }
   },
   "source": [
    "**Ejercicio 5 (2 puntos).** Leer el fichero `weather_usa.csv` en la variable `weather_df` y unirlo con el DF contenido en `state_x77` de la manera adecuada. Recuerda que los nombres de estados están en el *índice* de `state_x77`, no son ninguna columna. Almacenar el resultado de la operación en la variable `x77_weather_df`.\n",
    "\n",
    "A continuación:\n",
    "\n",
    "* Guardar en la variable `life_sun_corr` el coeficiente de correlación lineal entre las horas de sol de la capital de un estado y la esperanza de vida de ese estado. Aplícalo a dos objetos Series (las dos columnas) con la función `pd.Series.corr()`.\n",
    "* Crear en la variable `north_south_regex` una expresión regular para identificar los estados que contengan la palabra \"North\" o \"South\" seguida de exactamente un separador, que no tiene por qué ser \" \" sino que puede ser cualquier carácter separador. Utiliza la sintaxis `f\"expr\"`.\n",
    "* Aplicar la expresión regular al índice del DataFrame `x77_weather` y guardar el resultado en `north_south_mask`. PISTA: consulta la documentación de la función [Series.str.match](https://pandas.pydata.org/docs/reference/api/pandas.Series.str.match.html) de los objetos Series. Necesitarás convertir el índice del DF en un objeto Series con el método `.to_series()` aplicado al índice.\n",
    "* Aplica a `x77_weather_df` la máscara construida para obtener un DF que sólo contenga dichas filas, y guárdalo en la variable `north_south_df`."
   ]
  },
  {
   "cell_type": "code",
   "execution_count": null,
   "id": "f99a4106",
   "metadata": {
    "deletable": false,
    "nbgrader": {
     "cell_type": "code",
     "checksum": "1012d35af096beb25e53ee731ad30933",
     "grade": false,
     "grade_id": "ej5-respuesta",
     "locked": false,
     "schema_version": 3,
     "solution": true,
     "task": false
    }
   },
   "outputs": [],
   "source": [
    "weather_df = None\n",
    "x77_weather_df = None\n",
    "north_south_regex = None\n",
    "north_south_mask = None\n",
    "north_south_df = None\n",
    "life_sun_corr = None\n",
    "\n",
    "# YOUR CODE HERE\n",
    "raise NotImplementedError"
   ]
  },
  {
   "cell_type": "code",
   "execution_count": null,
   "id": "0edb948b",
   "metadata": {
    "deletable": false,
    "editable": false,
    "nbgrader": {
     "cell_type": "code",
     "checksum": "a5558fed7306490a01314279117fe2f3",
     "grade": true,
     "grade_id": "ej5-test",
     "locked": true,
     "points": 2,
     "schema_version": 3,
     "solution": false,
     "task": false
    }
   },
   "outputs": [],
   "source": [
    "assert(isinstance(x77_weather_df, pd.core.frame.DataFrame) and\n",
    "       isinstance(north_south_df, pd.core.frame.DataFrame) and\n",
    "       isinstance(weather_df, pd.core.frame.DataFrame))\n",
    "assert(isinstance(north_south_mask, pd.core.frame.Series))\n",
    "assert(x77_weather_df.shape == (50, 14) and\n",
    "       north_south_df.shape == (4, 14))\n",
    "assert(\"|\" in north_south_regex and \n",
    "       \" \" not in north_south_regex)\n",
    "assert(north_south_df[\"Population\"].mean() == 2393.75)\n",
    "assert(round(north_south_df[\"temp_celsius\"].mean(), 3) == 10.975)\n",
    "assert(round(life_sun_corr, 3) == -0.043)"
   ]
  }
 ],
 "metadata": {
  "kernelspec": {
   "display_name": "Python 3 (ipykernel)",
   "language": "python",
   "name": "python3"
  },
  "language_info": {
   "codemirror_mode": {
    "name": "ipython",
    "version": 3
   },
   "file_extension": ".py",
   "mimetype": "text/x-python",
   "name": "python",
   "nbconvert_exporter": "python",
   "pygments_lexer": "ipython3",
   "version": "3.7.4"
  }
 },
 "nbformat": 4,
 "nbformat_minor": 5
}
